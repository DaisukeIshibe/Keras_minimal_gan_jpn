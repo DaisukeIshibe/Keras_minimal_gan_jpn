{
  "nbformat": 4,
  "nbformat_minor": 0,
  "metadata": {
    "colab": {
      "name": "keras_minimal_gan_jpn.ipynb",
      "provenance": [],
      "collapsed_sections": []
    },
    "kernelspec": {
      "name": "python3",
      "display_name": "Python 3"
    },
    "accelerator": "GPU"
  },
  "cells": [
    {
      "cell_type": "markdown",
      "metadata": {
        "id": "8DBpG36nVeVG",
        "colab_type": "text"
      },
      "source": [
        "Keras_minimal_gan_jpn\n",
        "---\n",
        "Kerasで記述された最小のGANコード\n",
        "\n",
        "Mnistの数字を生成<br />\n",
        "潜在変数(z_dim)100で生成\n",
        "\n",
        "参考コード：GANs in Action Deep Learning with Generative Adversarial Networks / Jakub Langr, Vladimir Bok<br />\n",
        "(邦題：実践GAN 敵対的生成ネットワークによる深層学習、ISBN-10: 4839967717)より<br />\n",
        "https://github.com/GANs-in-Action/gans-in-action/blob/master/chapter-3/Chapter_3_GAN.ipynb"
      ]
    },
    {
      "cell_type": "code",
      "metadata": {
        "id": "IgEmqg6XLuRA",
        "colab_type": "code",
        "colab": {}
      },
      "source": [
        "import matplotlib.pyplot as plt\n",
        "import numpy as np\n",
        "from keras.datasets import mnist\n",
        "from keras.layers import Dense, Flatten, Reshape\n",
        "from keras.layers.advanced_activations import LeakyReLU\n",
        "from keras.models import Sequential\n",
        "from keras.optimizers import Adam"
      ],
      "execution_count": 0,
      "outputs": []
    },
    {
      "cell_type": "code",
      "metadata": {
        "id": "89S-VA5DV9C2",
        "colab_type": "code",
        "colab": {}
      },
      "source": [
        "# パラメータ設定\n",
        "iterations = 20000\n",
        "batch_size = 256\n",
        "sample_interval = 1000\n",
        "# Size of the noise vector, used as input to the Generator\n",
        "z_dim = 100\n",
        "\n",
        "# Load the MNIST dataset\n",
        "(X_train, _), (_, _) = mnist.load_data()\n",
        "# Rescale [0, 255] grayscale pixel values to [-1, 1]\n",
        "X_train = X_train / 127.5 - 1.0\n",
        "X_train = np.expand_dims(X_train, axis=3)\n",
        "img_shape = X_train[0].shape"
      ],
      "execution_count": 0,
      "outputs": []
    },
    {
      "cell_type": "code",
      "metadata": {
        "id": "AvaQP2vAWBKE",
        "colab_type": "code",
        "colab": {}
      },
      "source": [
        "def build_generator(img_shape, z_dim):\n",
        "    h, w, c = img_shape\n",
        "    model = Sequential()\n",
        "    model.add(Dense(128, input_dim=z_dim))\n",
        "    model.add(LeakyReLU(alpha=0.01))\n",
        "    model.add(Dense(h * w * c, activation='tanh'))\n",
        "    model.add(Reshape(img_shape))\n",
        "    return model"
      ],
      "execution_count": 0,
      "outputs": []
    },
    {
      "cell_type": "code",
      "metadata": {
        "id": "41rApX1xZATO",
        "colab_type": "code",
        "colab": {}
      },
      "source": [
        "def build_discriminator(img_shape):\n",
        "    model = Sequential()\n",
        "    model.add(Flatten(input_shape=img_shape))\n",
        "    model.add(Dense(128))\n",
        "    model.add(LeakyReLU(alpha=0.01))\n",
        "    model.add(Dense(1, activation='sigmoid'))\n",
        "    return model"
      ],
      "execution_count": 0,
      "outputs": []
    },
    {
      "cell_type": "code",
      "metadata": {
        "id": "-Qgr77VHZDEj",
        "colab_type": "code",
        "colab": {}
      },
      "source": [
        "def build_gan(generator, discriminator):\n",
        "    model = Sequential()\n",
        "    model.add(generator)\n",
        "    model.add(discriminator)\n",
        "    return model"
      ],
      "execution_count": 0,
      "outputs": []
    },
    {
      "cell_type": "code",
      "metadata": {
        "id": "NpqjTndVZF6X",
        "colab_type": "code",
        "colab": {}
      },
      "source": [
        "discriminator = build_discriminator(img_shape)\n",
        "discriminator.compile(loss='binary_crossentropy', optimizer=Adam(), metrics=['accuracy'])\n",
        "generator = build_generator(img_shape, z_dim)\n",
        "\n",
        "discriminator.trainable = False\n",
        "gan = build_gan(generator, discriminator)\n",
        "gan.compile(loss='binary_crossentropy', optimizer=Adam())"
      ],
      "execution_count": 0,
      "outputs": []
    },
    {
      "cell_type": "code",
      "metadata": {
        "id": "jc8vbqvga-A6",
        "colab_type": "code",
        "colab": {}
      },
      "source": [
        "def sample_images(generator, image_grid_rows=4, image_grid_columns=4):\n",
        "    z = np.random.normal(0, 1, (image_grid_rows * image_grid_columns, z_dim))\n",
        "    gen_imgs = generator.predict(z)\n",
        "    gen_imgs = 0.5 * gen_imgs + 0.5\n",
        "    fig, axs = plt.subplots(image_grid_rows, image_grid_columns, figsize=(4, 4))\n",
        "\n",
        "    cnt = 0\n",
        "    for i in range(image_grid_rows):\n",
        "        for j in range(image_grid_columns):\n",
        "            axs[i, j].imshow(gen_imgs[cnt, :, :, 0], cmap='gray')\n",
        "            axs[i, j].axis('off')\n",
        "            cnt += 1"
      ],
      "execution_count": 0,
      "outputs": []
    },
    {
      "cell_type": "code",
      "metadata": {
        "id": "qIE1MmSHZLQe",
        "colab_type": "code",
        "colab": {}
      },
      "source": [
        "real = np.ones((batch_size, 1))\n",
        "fake = np.zeros((batch_size, 1))\n",
        "\n",
        "for iteration in range(iterations):\n",
        "    #  Train the Discriminator\n",
        "    idx = np.random.randint(0, X_train.shape[0], batch_size)\n",
        "    imgs = X_train[idx]\n",
        "    z = np.random.normal(0, 1, (batch_size, 100))\n",
        "    gen_imgs = generator.predict(z)\n",
        "    d_loss_real = discriminator.train_on_batch(imgs, real)\n",
        "    d_loss_fake = discriminator.train_on_batch(gen_imgs, fake)\n",
        "    d_loss, accuracy = 0.5 * np.add(d_loss_real, d_loss_fake)\n",
        "\n",
        "    #  Train the Generator\n",
        "    z = np.random.normal(0, 1, (batch_size, 100))\n",
        "    g_loss = gan.train_on_batch(z, real)\n",
        "\n",
        "    if (iteration + 1) % sample_interval == 0:\n",
        "        print(\"%d [D loss: %f, acc.: %.2f%%] [G loss: %f]\" % (iteration + 1, d_loss, 100.0 * accuracy, g_loss))\n",
        "        sample_images(generator)"
      ],
      "execution_count": 0,
      "outputs": []
    }
  ]
}